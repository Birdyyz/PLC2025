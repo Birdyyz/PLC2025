{
 "cells": [
  {
   "cell_type": "markdown",
   "id": "9f50f06d",
   "metadata": {},
   "source": [
    "### Definição dos tokens\n",
    "\n",
    "```json\n",
    "[\n",
    "    {\n",
    "        \"id\": \"reserved_words\",\n",
    "        \"expreg\": \"\\\\bselect\\\\b\"\n",
    "    },\n",
    "    {\n",
    "        \"id\": \"reserved_words\",\n",
    "        \"expreg\": \"\\\\bwhere\\\\b\"\n",
    "    },\n",
    "    {\n",
    "        \"id\": \"reserved_words\",\n",
    "        \"expreg\": \"\\\\ba\\\\b\"\n",
    "    },\n",
    "    {\n",
    "        \"id\": \"reserved_words\",\n",
    "        \"expreg\": \"\\\\bLIMIT\\\\b\"\n",
    "    },\n",
    "    {\n",
    "        \"id\": \"var\",\n",
    "        \"expreg\": \"\\\\b?nome\\\\b\"\n",
    "    },\n",
    "    {\n",
    "        \"id\": \"var\",\n",
    "        \"expreg\": \"\\\\b?desc\\\\b\"\n",
    "    },\n",
    "    {\n",
    "        \"id\": \"var\",\n",
    "        \"expreg\": \"\\\\b?s\\\\b\"\n",
    "    },\n",
    "    {\n",
    "        \"id\": \"var\",\n",
    "        \"expreg\": \"\\\\b?w\\\\b\"\n",
    "    }\n",
    "    {\n",
    "        \"id\": \"prefix\",\n",
    "        \"expreg\": \"\\\\bfoaf\\\\b\"\n",
    "    }\n",
    "    {\n",
    "        \"id\": \"prefix\",\n",
    "        \"expreg\": \"\\\\bdbo\\\\b\"\n",
    "    }\n",
    "    {\n",
    "        \"id\": \"identification\",\n",
    "        \"expreg\": \"\\\\bname\\\\b\"\n",
    "    }\n",
    "    {\n",
    "        \"id\": \"identification\",\n",
    "        \"expreg\": \"\\\\bartist\\\\b\"\n",
    "    }\n",
    "    {\n",
    "        \"id\": \"identification\",\n",
    "        \"expreg\": \"\\\\babstract\\\\b\"\n",
    "    }\n",
    "    {\n",
    "        \"id\": \"number\",\n",
    "        \"expreg\": \"\\b\\d+\\b\"\n",
    "    }\n",
    "]\n",
    "```"
   ]
  },
  {
   "cell_type": "code",
   "execution_count": null,
   "id": "c5686661",
   "metadata": {},
   "outputs": [],
   "source": [
    "import sys\n",
    "import json\n"
   ]
  }
 ],
 "metadata": {
  "kernelspec": {
   "display_name": "Python 3",
   "language": "python",
   "name": "python3"
  },
  "language_info": {
   "name": "python",
   "version": "3.13.7"
  }
 },
 "nbformat": 4,
 "nbformat_minor": 5
}
