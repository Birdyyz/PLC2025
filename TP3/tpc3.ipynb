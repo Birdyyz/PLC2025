{
 "cells": [
  {
   "cell_type": "code",
   "execution_count": null,
   "id": "c5686661",
   "metadata": {},
   "outputs": [],
   "source": [
    "import sys\n",
    "import json\n",
    "with open('tokens.json', 'r', encoding='utf-8') as f:\n",
    "    dados = json.load(f)\n",
    "    \n"
   ]
  }
 ],
 "metadata": {
  "kernelspec": {
   "display_name": "Python 3",
   "language": "python",
   "name": "python3"
  },
  "language_info": {
   "name": "python",
   "version": "3.13.7"
  }
 },
 "nbformat": 4,
 "nbformat_minor": 5
}
